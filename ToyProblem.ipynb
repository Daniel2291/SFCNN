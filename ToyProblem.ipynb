{
  "nbformat": 4,
  "nbformat_minor": 0,
  "metadata": {
    "colab": {
      "provenance": [],
      "authorship_tag": "ABX9TyNpCk/DL4B9mSv1Vyo4ZGsS",
      "include_colab_link": true
    },
    "kernelspec": {
      "name": "python3",
      "display_name": "Python 3"
    },
    "language_info": {
      "name": "python"
    }
  },
  "cells": [
    {
      "cell_type": "markdown",
      "metadata": {
        "id": "view-in-github",
        "colab_type": "text"
      },
      "source": [
        "<a href=\"https://colab.research.google.com/github/Daniel2291/SFCNN/blob/main/ToyProblem.ipynb\" target=\"_parent\"><img src=\"https://colab.research.google.com/assets/colab-badge.svg\" alt=\"Open In Colab\"/></a>"
      ]
    },
    {
      "cell_type": "code",
      "execution_count": null,
      "metadata": {
        "colab": {
          "base_uri": "https://localhost:8080/",
          "height": 510
        },
        "id": "iwKxSPUdAHog",
        "outputId": "979491f0-68f6-4495-bb7d-3570d4e0af60"
      },
      "outputs": [
        {
          "output_type": "display_data",
          "data": {
            "text/plain": [
              "<Figure size 1000x500 with 8 Axes>"
            ],
            "image/png": "[encoded data removed]"
          },
          "metadata": {}
        }
      ],
      "source": [
        "\n",
        "import numpy as np\n",
        "from PIL import Image, ImageDraw\n",
        "import torch\n",
        "from torch.utils.data import Dataset\n",
        "import matplotlib.pyplot as plt\n",
        "import random\n",
        "\n",
        "def draw_shape(shape_type, image_size=28, shape_size=16, angle=0):\n",
        "    img = Image.new('L', (image_size, image_size), 0)     # black background\n",
        "    shape_layer = Image.new('L', (image_size, image_size), 0)\n",
        "    draw = ImageDraw.Draw(shape_layer)\n",
        "\n",
        "    cx, cy = image_size // 2, image_size // 2\n",
        "    r = shape_size // 2\n",
        "\n",
        "    if shape_type == 'circle':\n",
        "        bbox = [cx - r, cy - r, cx + r, cy + r]\n",
        "        draw.ellipse(bbox, fill=255)\n",
        "\n",
        "    elif shape_type == 'square':\n",
        "        bbox = [cx - r, cy - r, cx + r, cy + r]\n",
        "        draw.rectangle(bbox, fill=255)\n",
        "\n",
        "    elif shape_type == 'triangle':\n",
        "        points = [(cx, cy - r), (cx - r, cy + r), (cx + r, cy + r)]\n",
        "        draw.polygon(points, fill=255)\n",
        "\n",
        "    elif shape_type == 'star':\n",
        "        points = []\n",
        "        for i in range(5):\n",
        "            outer_angle = i * (2 * np.pi / 5)\n",
        "            inner_angle = outer_angle + np.pi / 5\n",
        "            points.append((cx + r * np.cos(outer_angle), cy + r * np.sin(outer_angle)))\n",
        "            points.append((cx + r * 0.5 * np.cos(inner_angle), cy + r * 0.5 * np.sin(inner_angle)))\n",
        "        draw.polygon(points, fill=255)\n",
        "\n",
        "    # Add small black dot marker inside shape\n",
        "    marker_radius = 1\n",
        "    marker_offset = 0.5 * r\n",
        "    marker_x = cx\n",
        "    marker_y = cy - marker_offset  # top-center inside shape\n",
        "\n",
        "    draw.ellipse([marker_x - marker_radius, marker_y - marker_radius,\n",
        "                  marker_x + marker_radius, marker_y + marker_radius], fill=0)  # black dot\n",
        "\n",
        "    # Rotate the whole shape layer\n",
        "    rotated = shape_layer.rotate(angle, resample=Image.BILINEAR)\n",
        "\n",
        "    return np.array(rotated)\n",
        "\n",
        "\n",
        "\n",
        "class ShapeDataset(Dataset):\n",
        "    def __init__(self, num_samples=1000):\n",
        "        self.shapes = ['triangle', 'square', 'circle', 'star']\n",
        "        self.data, self.labels = [], []\n",
        "        for _ in range(num_samples):\n",
        "            label = random.randint(0, 3)\n",
        "            angle = random.uniform(0, 360)\n",
        "            img = draw_shape(self.shapes[label], angle=angle)\n",
        "            self.data.append(img)\n",
        "            self.labels.append(label)\n",
        "\n",
        "    def __getitem__(self, idx):\n",
        "        img = torch.tensor(self.data[idx], dtype=torch.float32).unsqueeze(0) / 255.0\n",
        "        return img, self.labels[idx]\n",
        "\n",
        "    def __len__(self):\n",
        "        return len(self.data)\n",
        "\n",
        "\n",
        "\n",
        "  # Visualize samples\n",
        "dataset = ShapeDataset(num_samples=8)\n",
        "fig, axs = plt.subplots(2, 4, figsize=(10, 5))\n",
        "for i, ax in enumerate(axs.flat):\n",
        "    img, label = dataset[i]\n",
        "    ax.imshow(img.squeeze(), cmap='gray')\n",
        "    ax.set_title(dataset.shapes[label])\n",
        "    ax.axis('off')\n",
        "plt.tight_layout()\n",
        "plt.show()\n"
      ]
    }
  ]
}